{
 "cells": [
  {
   "cell_type": "code",
   "execution_count": 1,
   "id": "280bd352",
   "metadata": {},
   "outputs": [],
   "source": [
    "import cv2 as cv\n",
    "import numpy as np"
   ]
  },
  {
   "cell_type": "code",
   "execution_count": 6,
   "id": "370b0970",
   "metadata": {},
   "outputs": [],
   "source": [
    "class ObjectDetectionAndClassification:\n",
    "    def __init__(self, img)\n",
    "        # convert to hsv colorspace\n",
    "        self.hsv = cv2.cvtColor(img, cv2.COLOR_BGR2HSV)\n",
    "\n",
    "        # Red color\n",
    "        low_red = np.array([161, 155, 84])\n",
    "        high_red = np.array([179, 255, 255])\n",
    "        red_mask = cv2.inRange(hsv, low_red, high_red)\n",
    "     \n",
    "        # Blue color\n",
    "        low_blue = np.array([94, 80, 2])\n",
    "        high_blue = np.array([126, 255, 255])\n",
    "        blue_mask = cv2.inRange(hsv, low_blue, high_blue)\n",
    "      \n",
    "        # Green color\n",
    "        low_green = np.array([25, 52, 72])\n",
    "        high_green = np.array([102, 255, 255])\n",
    "        green_mask = cv2.inRange(hsv, low_green, high_green)\n",
    "        \n",
    "        # Yellow color\n",
    "        low_yellow = np.array([20, 100, 100])\n",
    "        high_yellow = np.array([30, 255, 255])\n",
    "        yellow_mask = cv2.inRange(hsv, low_yellow, high_yellow)\n",
    "      \n",
    "    def apply(self)\n",
    "        return (red_mask, blue_mask, green_mask, yellow_mask)"
   ]
  }
 ],
 "metadata": {
  "kernelspec": {
   "display_name": "Python 3 (ipykernel)",
   "language": "python",
   "name": "python3"
  },
  "language_info": {
   "codemirror_mode": {
    "name": "ipython",
    "version": 3
   },
   "file_extension": ".py",
   "mimetype": "text/x-python",
   "name": "python",
   "nbconvert_exporter": "python",
   "pygments_lexer": "ipython3",
   "version": "3.9.7"
  }
 },
 "nbformat": 4,
 "nbformat_minor": 5
}
